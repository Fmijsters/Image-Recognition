{
 "cells": [
  {
   "cell_type": "markdown",
   "metadata": {},
   "source": [
    "# Recognizer\n",
    "This notebook will be used to validate your model and grade your work."
   ]
  },
  {
   "cell_type": "markdown",
   "metadata": {},
   "source": [
    "# Collect features and execute model (YOUR IMPLEMENTATION HERE)\n",
    "You need to implement the following function that predicts the digits that are available in an image. The function should return an array with 4 elements, containing these 4 digits from left to right."
   ]
  },
  {
   "cell_type": "code",
   "execution_count": 14,
   "metadata": {},
   "outputs": [],
   "source": [
    "import glob\n",
    "import os\n",
    "import sklearn\n",
    "import joblib\n",
    "import skimage, skimage.io\n",
    "import pandas as pd\n",
    "import numpy as np\n",
    "import matplotlib.pyplot as plt\n",
    "from skimage.transform.pyramids import pyramid_laplacian\n",
    "import skimage\n",
    "from skimage import io,morphology\n",
    "import pickle"
   ]
  },
  {
   "cell_type": "code",
   "execution_count": 15,
   "metadata": {},
   "outputs": [],
   "source": [
    "def image_to_binary(image,threshold_corretion=0):\n",
    "    image = skimage.color.rgb2gray(image)\n",
    "    thresh = skimage.filters.threshold_otsu(image)\n",
    "    binary = image > (thresh +threshold_corretion)\n",
    "    binary = np.invert(binary)\n",
    "    binary = morphology.dilation(binary,morphology.disk(1))\n",
    "    return binary"
   ]
  },
  {
   "cell_type": "code",
   "execution_count": 16,
   "metadata": {},
   "outputs": [],
   "source": [
    "def split_digits_into_image_array(image):\n",
    "    images = list()\n",
    "    for i in range(4):\n",
    "        images.append(image[0:31,(32 * i):(32*i + 31)])\n",
    "    return images"
   ]
  },
  {
   "cell_type": "code",
   "execution_count": 17,
   "metadata": {},
   "outputs": [],
   "source": [
    "def laplacian_pyramid_from_image(image):\n",
    "    pyramid = tuple(pyramid_laplacian(image,multichannel=False))\n",
    "    return pyramid"
   ]
  },
  {
   "cell_type": "code",
   "execution_count": 18,
   "metadata": {},
   "outputs": [],
   "source": [
    "def transform_pyramid_into_1d_array(pyramid,from_layer):\n",
    "    image_array = list()\n",
    "    for pyr in pyramid[from_layer:]:\n",
    "        for row in pyr:\n",
    "            image_array.extend(row)\n",
    "    return image_array"
   ]
  },
  {
   "cell_type": "code",
   "execution_count": 19,
   "metadata": {},
   "outputs": [],
   "source": [
    "def prepare_laplacian_pyramid(pyramid):\n",
    "    new_pyramid = list()\n",
    "    for pyr in pyramid:\n",
    "        pyr[pyr > 0.001] = 1\n",
    "        pyr = np.around(pyr)\n",
    "        new_pyramid.append(pyr)\n",
    "    return new_pyramid"
   ]
  },
  {
   "cell_type": "code",
   "execution_count": 20,
   "metadata": {},
   "outputs": [],
   "source": [
    "# Load the preprocessor (REPLACE WITH YOUR CODE)\n",
    "# preproc = joblib.load('../classifiers/best_preprocessor.pkl') \n",
    "\n",
    "# Load your final model (REPLACE WITH YOUR CODE)\n",
    "# laplacian_ensemble_classifier\n",
    "clf = joblib.load('../classifiers/laplacian_ensemble_classifier.joblib') "
   ]
  },
  {
   "cell_type": "code",
   "execution_count": 21,
   "metadata": {},
   "outputs": [],
   "source": [
    "def classify_image(filename):\n",
    "# \"\"\"\n",
    "# Load an image from file and predict the four digits in the image.\n",
    "# The result should be an array containing the 4 digits (as string)\n",
    "# \"\"\"\n",
    "    result = list()\n",
    "    \n",
    "    # Load the image from file\n",
    "    image = skimage.io.imread(filename)\n",
    "    # For each digit, collect features, preprocess and predict\n",
    "    image_binary = image_to_binary(image)\n",
    "    img_array = split_digits_into_image_array(image_binary)\n",
    "    for img in img_array:\n",
    "        pyramid = laplacian_pyramid_from_image(img)\n",
    "        laplacian_vector_row = transform_pyramid_into_1d_array(prepare_laplacian_pyramid(pyramid),1)\n",
    "        result.append(int(clf.predict(np.asarray(laplacian_vector_row).reshape(1,-1))[0]))\n",
    "    \n",
    "    return result"
   ]
  },
  {
   "cell_type": "markdown",
   "metadata": {},
   "source": [
    "# silent deprecation warning"
   ]
  },
  {
   "cell_type": "code",
   "execution_count": 22,
   "metadata": {},
   "outputs": [],
   "source": [
    "import warnings\n",
    "warnings.filterwarnings(action='ignore', category=DeprecationWarning)\n"
   ]
  },
  {
   "cell_type": "markdown",
   "metadata": {},
   "source": [
    "# Score your model (DON'T CHANGE THIS CODE!!!)"
   ]
  },
  {
   "cell_type": "code",
   "execution_count": 23,
   "metadata": {},
   "outputs": [
    {
     "name": "stdout",
     "output_type": "stream",
     "text": [
      "Digit accuracy:  0.9609375 ( 1845 / 75 )\n",
      "Zipcode accuracy:  0.8541666666666666 ( 410 / 70 )\n"
     ]
    }
   ],
   "source": [
    "DATASET_FOLDER = '../dataset-images/'\n",
    "\n",
    "# Outcomes\n",
    "correct_classified_digits = 0\n",
    "incorrect_classified_digits = 0\n",
    "correct_classified_zipcodes = 0\n",
    "incorrect_classified_zipcodes = 0\n",
    "\n",
    "# Score the classifier\n",
    "files = glob.glob(os.path.join(DATASET_FOLDER, '*.png'))\n",
    "for f in files:\n",
    "    # Get the correct label from the filename\n",
    "    correct_label = f[-8:-4]\n",
    "    # Predict using the classifier\n",
    "    predicted_label = classify_image(f)\n",
    "    \n",
    "    # Score digits\n",
    "    zipcode_correct = True\n",
    "    for i in range(len(correct_label)):\n",
    "        if str(correct_label[i]) == str(predicted_label[i]):\n",
    "            correct_classified_digits += 1\n",
    "        else:\n",
    "            incorrect_classified_digits += 1\n",
    "            zipcode_correct = False\n",
    "    \n",
    "    # Score correct zipcodes\n",
    "    if zipcode_correct:\n",
    "        correct_classified_zipcodes += 1\n",
    "    else:\n",
    "        incorrect_classified_zipcodes += 1\n",
    "\n",
    "print(\"Digit accuracy: \", (correct_classified_digits / (correct_classified_digits + incorrect_classified_digits)), \"(\", correct_classified_digits, \"/\", incorrect_classified_digits, \")\")\n",
    "print(\"Zipcode accuracy: \", (correct_classified_zipcodes / (correct_classified_zipcodes + incorrect_classified_zipcodes)), \"(\", correct_classified_zipcodes, \"/\", incorrect_classified_zipcodes, \")\")        "
   ]
  }
 ],
 "metadata": {
  "kernelspec": {
   "display_name": "Python 3",
   "language": "python",
   "name": "python3"
  },
  "language_info": {
   "codemirror_mode": {
    "name": "ipython",
    "version": 3
   },
   "file_extension": ".py",
   "mimetype": "text/x-python",
   "name": "python",
   "nbconvert_exporter": "python",
   "pygments_lexer": "ipython3",
   "version": "3.6.5"
  },
  "toc": {
   "base_numbering": 1,
   "nav_menu": {},
   "number_sections": true,
   "sideBar": true,
   "skip_h1_title": false,
   "title_cell": "Table of Contents",
   "title_sidebar": "Contents",
   "toc_cell": false,
   "toc_position": {},
   "toc_section_display": true,
   "toc_window_display": false
  },
  "varInspector": {
   "cols": {
    "lenName": 16,
    "lenType": 16,
    "lenVar": 40
   },
   "kernels_config": {
    "python": {
     "delete_cmd_postfix": "",
     "delete_cmd_prefix": "del ",
     "library": "var_list.py",
     "varRefreshCmd": "print(var_dic_list())"
    },
    "r": {
     "delete_cmd_postfix": ") ",
     "delete_cmd_prefix": "rm(",
     "library": "var_list.r",
     "varRefreshCmd": "cat(var_dic_list()) "
    }
   },
   "types_to_exclude": [
    "module",
    "function",
    "builtin_function_or_method",
    "instance",
    "_Feature"
   ],
   "window_display": false
  }
 },
 "nbformat": 4,
 "nbformat_minor": 1
}
